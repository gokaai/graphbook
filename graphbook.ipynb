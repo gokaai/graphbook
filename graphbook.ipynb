{
 "cells": [
  {
   "cell_type": "code",
   "execution_count": 106,
   "metadata": {},
   "outputs": [
    {
     "data": {
      "application/javascript": [
       "IPython.OutputArea.prototype._should_scroll = function(lines) {\n",
       "    return false;\n",
       "}\n"
      ],
      "text/plain": [
       "<IPython.core.display.Javascript object>"
      ]
     },
     "metadata": {},
     "output_type": "display_data"
    }
   ],
   "source": [
    "%%javascript\n",
    "IPython.OutputArea.prototype._should_scroll = function(lines) {\n",
    "    return false;\n",
    "}"
   ]
  },
  {
   "cell_type": "code",
   "execution_count": 107,
   "metadata": {},
   "outputs": [],
   "source": [
    "\"\"\"\n",
    "Imports\n",
    "\n",
    "\"\"\"\n",
    "import pandas as pd\n",
    "import ipywidgets as widgets\n",
    "from ipywidgets import FileUpload, Button, HTML, HBox, Dropdown, VBox, Label, ToggleButtons, Layout\n",
    "import plotly.express as px\n",
    "from IPython.display import clear_output\n",
    "from io import StringIO\n",
    "import qgrid\n",
    "import plotly.graph_objects as go"
   ]
  },
  {
   "cell_type": "code",
   "execution_count": 123,
   "metadata": {
    "code_folding": [
     5,
     21
    ]
   },
   "outputs": [],
   "source": [
    "parameter_info = HTML(\n",
    "    '<br><div class=\"alert alert-block alert-success\" align=\"left\"><strong> Enter input parameters: <br><strong> </div>'\n",
    ")\n",
    "\n",
    "\n",
    "def generate_line(button):\n",
    "    if line_options.children[1].value is not None and line_options.children[\n",
    "            3].value is not None:\n",
    "        updated_df = working_grid.get_changed_df()\n",
    "        linechart = go.FigureWidget(\n",
    "            px.line(updated_df,\n",
    "                    x=line_options.children[1].value,\n",
    "                    y=line_options.children[3].value))\n",
    "        if len(viz_master_box.children) > 3:\n",
    "            viz_master_box.children = viz_master_box.children[:-1] + tuple(\n",
    "                [linechart])\n",
    "        else:\n",
    "            viz_master_box.children = viz_master_box.children + tuple(\n",
    "                [linechart])\n",
    "\n",
    "\n",
    "def plot_graph_master(button):\n",
    "    # Line Chart\n",
    "    global line_options\n",
    "    line_options = HBox([\n",
    "        Label('Select Dimension column:',\n",
    "              layout=Layout(margin='5px 10px 0px 0')),\n",
    "        Dropdown(options=working_grid.get_changed_df().columns,\n",
    "                 layout=Layout(width='160px')),\n",
    "        Label('Select Metric column:',\n",
    "              layout=Layout(margin='5px 10px 0px 50px')),\n",
    "        Dropdown(options=working_grid.get_changed_df().columns,\n",
    "                 layout=Layout(width='160px')),\n",
    "        Button(description='Generate!',\n",
    "               button_style='success',\n",
    "               layout=Layout(margin='5px 10px 0px 150px'))\n",
    "    ])\n",
    "    if button.new == 'Line':\n",
    "        viz_master_box.children = tuple([viz_master_box.children[0]]) + tuple(\n",
    "            [parameter_info]) + tuple([line_options])\n",
    "        # line_options.children[1].observe(generate_line, names='value')\n",
    "        # line_options.children[3].observe(generate_line, names='value')\n",
    "        line_options.children[4].on_click(generate_line)"
   ]
  },
  {
   "cell_type": "code",
   "execution_count": 124,
   "metadata": {
    "code_folding": [
     0,
     4,
     6,
     12,
     18,
     40
    ],
    "scrolled": false
   },
   "outputs": [
    {
     "data": {
      "application/vnd.jupyter.widget-view+json": {
       "model_id": "8a50fda92e024ed8bc7e75f5b1d596c8",
       "version_major": 2,
       "version_minor": 0
      },
      "text/plain": [
       "HTML(value='<div class=\"alert alert-block alert-info\" align=\"left\"><strong>Visualization Module - Upload Custo…"
      ]
     },
     "metadata": {},
     "output_type": "display_data"
    },
    {
     "data": {
      "application/vnd.jupyter.widget-view+json": {
       "model_id": "87eb7b201c154e05a1f9984eafd474fb",
       "version_major": 2,
       "version_minor": 0
      },
      "text/plain": [
       "HBox(children=(FileUpload(value={}, accept='.csv', button_style='success', description='Upload'), Button(butto…"
      ]
     },
     "metadata": {},
     "output_type": "display_data"
    },
    {
     "data": {
      "application/vnd.jupyter.widget-view+json": {
       "model_id": "fc6d777b10024701ada4dc856f3acb71",
       "version_major": 2,
       "version_minor": 0
      },
      "text/plain": [
       "HTML(value='<br><div class=\"alert alert-block alert-success\" align=\"left\"><strong>File Uploaded Successfully! …"
      ]
     },
     "metadata": {},
     "output_type": "display_data"
    },
    {
     "data": {
      "application/vnd.jupyter.widget-view+json": {
       "model_id": "4c2e5cde08b84adebc31e8360b226856",
       "version_major": 2,
       "version_minor": 0
      },
      "text/plain": [
       "QgridWidget(grid_options={'fullWidthRows': True, 'syncColumnCellResize': True, 'forceFitColumns': False, 'defa…"
      ]
     },
     "metadata": {},
     "output_type": "display_data"
    },
    {
     "data": {
      "application/vnd.jupyter.widget-view+json": {
       "model_id": "a3d071319a5442639da98e6f1a5a5aaa",
       "version_major": 2,
       "version_minor": 0
      },
      "text/plain": [
       "HTML(value='<br><div class=\"alert alert-block alert-success\" align=\"left\"><strong>Start Visualizing your Data …"
      ]
     },
     "metadata": {},
     "output_type": "display_data"
    },
    {
     "data": {
      "application/vnd.jupyter.widget-view+json": {
       "model_id": "92a1b4cdb0744689a94617bef2c1a6e3",
       "version_major": 2,
       "version_minor": 0
      },
      "text/plain": [
       "VBox(children=(HBox(children=(Label(value='Select Visualization Type:'), ToggleButtons(button_style='info', op…"
      ]
     },
     "metadata": {},
     "output_type": "display_data"
    }
   ],
   "source": [
    "introduction = HTML(\n",
    "    '<div class=\"alert alert-block alert-info\" align=\"left\"><strong>Visualization Module - Upload Custom .csv or\\\n",
    "    .txt files and Visualize them !<strong></div>')\n",
    "\n",
    "chart_selection_toggle = ToggleButtons(options=['Line', 'Multi-Line', 'Bar'],\n",
    "                                    value=None, button_style='info')\n",
    "chart_selection_display = HBox(\n",
    "    [Label('Select Visualization Type:'), chart_selection_toggle])\n",
    "viz_master_box = VBox([chart_selection_display])\n",
    "\n",
    "chart_selection_toggle.observe(plot_graph_master, names=['value'])\n",
    "\n",
    "def file_uploaded(_):\n",
    "    file_upload_button.disabled = True\n",
    "    success_info = HTML(\n",
    "        '<br><div class=\"alert alert-block alert-success\" align=\"left\"><strong>File Uploaded Successfully! \\\n",
    "        You can edit your data using the table below- <br><strong> </div>')\n",
    "\n",
    "    start_info = HTML(\n",
    "        '<br><div class=\"alert alert-block alert-success\" align=\"left\"><strong>Start Visualizing your Data below:\\\n",
    "        <br><strong> </div>')\n",
    "\n",
    "    display(success_info)\n",
    "    uploaded_data = StringIO(str(file_upload_button.data[0]))\n",
    "    global working_grid\n",
    "    working_dataframe = pd.read_csv(\n",
    "        StringIO(file_upload_button.data[0].decode('utf-8')))\n",
    "    working_dataframe['Row Number'] = working_dataframe.index + 1\n",
    "    working_dataframe = working_dataframe.set_index('Row Number')\n",
    "    working_grid = qgrid.show_grid(working_dataframe,\n",
    "                                   grid_options={'forceFitColumns': False})\n",
    "    display(working_grid)\n",
    "    display(start_info)\n",
    "    display(viz_master_box)\n",
    "\n",
    "\n",
    "def restart(_):\n",
    "    start_master()\n",
    "\n",
    "\n",
    "def start_master():\n",
    "    clear_output()\n",
    "    display(introduction)\n",
    "    global file_upload_button\n",
    "    file_upload_button = FileUpload(multiple=False,\n",
    "                                    button_style='success',\n",
    "                                    accept='.csv')\n",
    "    file_upload_button.observe(file_uploaded, names='value')\n",
    "    global restart_button\n",
    "    restart_button = Button(description='Reset', button_style='danger')\n",
    "    restart_button.on_click(restart)\n",
    "    display(HBox([file_upload_button, restart_button]))\n",
    "\n",
    "\n",
    "start_master()"
   ]
  },
  {
   "cell_type": "code",
   "execution_count": null,
   "metadata": {},
   "outputs": [],
   "source": []
  },
  {
   "cell_type": "code",
   "execution_count": null,
   "metadata": {},
   "outputs": [],
   "source": []
  }
 ],
 "metadata": {
  "kernelspec": {
   "display_name": "Python 3",
   "language": "python",
   "name": "python3"
  },
  "language_info": {
   "codemirror_mode": {
    "name": "ipython",
    "version": 3
   },
   "file_extension": ".py",
   "mimetype": "text/x-python",
   "name": "python",
   "nbconvert_exporter": "python",
   "pygments_lexer": "ipython3",
   "version": "3.7.3"
  },
  "toc": {
   "base_numbering": 1,
   "nav_menu": {},
   "number_sections": true,
   "sideBar": true,
   "skip_h1_title": false,
   "title_cell": "Table of Contents",
   "title_sidebar": "Contents",
   "toc_cell": false,
   "toc_position": {},
   "toc_section_display": true,
   "toc_window_display": false
  }
 },
 "nbformat": 4,
 "nbformat_minor": 2
}
