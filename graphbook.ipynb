{
 "cells": [
  {
   "cell_type": "code",
   "execution_count": 1,
   "metadata": {},
   "outputs": [
    {
     "data": {
      "application/javascript": [
       "IPython.OutputArea.prototype._should_scroll = function(lines) {\n",
       "    return false;\n",
       "}\n"
      ],
      "text/plain": [
       "<IPython.core.display.Javascript object>"
      ]
     },
     "metadata": {},
     "output_type": "display_data"
    }
   ],
   "source": [
    "%%javascript\n",
    "IPython.OutputArea.prototype._should_scroll = function(lines) {\n",
    "    return false;\n",
    "}"
   ]
  },
  {
   "cell_type": "code",
   "execution_count": 6,
   "metadata": {},
   "outputs": [],
   "source": [
    "\"\"\"\n",
    "Imports\n",
    "\n",
    "\"\"\"\n",
    "import pandas as pd\n",
    "import ipywidgets as widgets\n",
    "from ipywidgets import Button, HTML, HBox, Dropdown, VBox, Label, ToggleButtons, Layout\n",
    "import plotly.express as px\n",
    "from IPython.display import clear_output\n",
    "from io import StringIO\n",
    "import qgrid\n",
    "import plotly.graph_objects as go\n",
    "import fileupload"
   ]
  },
  {
   "cell_type": "code",
   "execution_count": 7,
   "metadata": {
    "code_folding": [
     5
    ]
   },
   "outputs": [],
   "source": [
    "parameter_info = HTML(\n",
    "    '<br><div class=\"alert alert-block alert-success\" align=\"left\"><strong> Enter input parameters: <br><strong> </div>'\n",
    ")\n",
    "\n",
    "\n",
    "def generate_line(button):\n",
    "    if line_options.children[1].value is not None and line_options.children[\n",
    "            3].value is not None:\n",
    "        updated_df = working_grid.get_changed_df()\n",
    "        linechart = go.FigureWidget(\n",
    "            px.line(updated_df,\n",
    "                    x=line_options.children[1].value,\n",
    "                    y=line_options.children[3].value))\n",
    "        if len(viz_master_box.children) > 3:\n",
    "            viz_master_box.children = viz_master_box.children[:-1] + tuple(\n",
    "                [linechart])\n",
    "        else:\n",
    "            viz_master_box.children = viz_master_box.children + tuple(\n",
    "                [linechart])\n",
    "\n",
    "\n",
    "def plot_graph_master(button):\n",
    "    # Line Chart\n",
    "    global line_options\n",
    "    line_options = HBox([\n",
    "        Label('Select Dimension column:',\n",
    "              layout=Layout(margin='5px 10px 0px 0')),\n",
    "        Dropdown(options=working_grid.get_changed_df().columns,\n",
    "                 layout=Layout(width='160px')),\n",
    "        Label('Select Metric column:',\n",
    "              layout=Layout(margin='5px 10px 0px 50px')),\n",
    "        Dropdown(options=working_grid.get_changed_df().columns,\n",
    "                 layout=Layout(width='160px')),\n",
    "        Button(description='Generate!',\n",
    "               button_style='success',\n",
    "               layout=Layout(margin='5px 10px 0px 150px'))\n",
    "    ])\n",
    "    if button.new == 'Line':\n",
    "        viz_master_box.children = tuple([viz_master_box.children[0]]) + tuple(\n",
    "            [parameter_info]) + tuple([line_options])\n",
    "        # line_options.children[1].observe(generate_line, names='value')\n",
    "        # line_options.children[3].observe(generate_line, names='value')\n",
    "        line_options.children[4].on_click(generate_line)"
   ]
  },
  {
   "cell_type": "code",
   "execution_count": 56,
   "metadata": {
    "code_folding": [
     0,
     4,
     6,
     12,
     18,
     36
    ],
    "scrolled": false
   },
   "outputs": [
    {
     "data": {
      "application/vnd.jupyter.widget-view+json": {
       "model_id": "5df21aa4826e489e96122277ce784b6e",
       "version_major": 2,
       "version_minor": 0
      },
      "text/plain": [
       "HTML(value='<div class=\"alert alert-block alert-info\" align=\"left\"><strong>Visualization Module - Upload Custo…"
      ]
     },
     "metadata": {},
     "output_type": "display_data"
    },
    {
     "data": {
      "application/vnd.jupyter.widget-view+json": {
       "model_id": "a6c9dbe6f1cb4677816bd751f9e5eebd",
       "version_major": 2,
       "version_minor": 0
      },
      "text/plain": [
       "HBox(children=(HTML(value='<strong>Select File:', layout=Layout(margin='2px 15px 0px 0px')), FileUploadWidget(…"
      ]
     },
     "metadata": {},
     "output_type": "display_data"
    },
    {
     "data": {
      "application/vnd.jupyter.widget-view+json": {
       "model_id": "7ac3dea368344d23bb972dfb0931174a",
       "version_major": 2,
       "version_minor": 0
      },
      "text/plain": [
       "HTML(value='<br><div class=\"alert alert-block alert-success\" align=\"left\"><strong>File Uploaded Successfully! …"
      ]
     },
     "metadata": {},
     "output_type": "display_data"
    },
    {
     "data": {
      "application/vnd.jupyter.widget-view+json": {
       "model_id": "7d2dfb4f174f4548978b5d8997a2c140",
       "version_major": 2,
       "version_minor": 0
      },
      "text/plain": [
       "QgridWidget(grid_options={'fullWidthRows': True, 'syncColumnCellResize': True, 'forceFitColumns': False, 'defa…"
      ]
     },
     "metadata": {},
     "output_type": "display_data"
    },
    {
     "data": {
      "application/vnd.jupyter.widget-view+json": {
       "model_id": "21329d3852a648328633376e4e3682a7",
       "version_major": 2,
       "version_minor": 0
      },
      "text/plain": [
       "HTML(value='<br><div class=\"alert alert-block alert-success\" align=\"left\"><strong>Start Visualizing your Data …"
      ]
     },
     "metadata": {},
     "output_type": "display_data"
    },
    {
     "data": {
      "application/vnd.jupyter.widget-view+json": {
       "model_id": "b7f06b0fbc714d6fa5f6f101902993e4",
       "version_major": 2,
       "version_minor": 0
      },
      "text/plain": [
       "VBox(children=(HBox(children=(Label(value='Select Visualization Type:'), ToggleButtons(button_style='info', op…"
      ]
     },
     "metadata": {},
     "output_type": "display_data"
    }
   ],
   "source": [
    "introduction = HTML(\n",
    "    '<div class=\"alert alert-block alert-info\" align=\"left\"><strong>Visualization Module - Upload Custom .csv or\\\n",
    "    .txt files and Visualize them !<strong></div>')\n",
    "\n",
    "chart_selection_toggle = ToggleButtons(options=['Line', 'Multi-Line', 'Bar'],\n",
    "                                       value=None,\n",
    "                                       button_style='info')\n",
    "chart_selection_display = HBox(\n",
    "    [Label('Select Visualization Type:'), chart_selection_toggle])\n",
    "\n",
    "chart_selection_toggle.observe(plot_graph_master, names=['value'])\n",
    "\n",
    "\n",
    "def file_uploaded(button):\n",
    "    if 'csv' not in button['owner'].filename and 'txt' not in button[\n",
    "            'owner'].filename:\n",
    "        start_master()\n",
    "        file_upload_hbox.children[2].value = 'Upload csv/txt only!'\n",
    "    else:\n",
    "        start_master()\n",
    "        file_upload_button.disabled = True\n",
    "        success_info = HTML(\n",
    "            '<br><div class=\"alert alert-block alert-success\" align=\"left\"><strong>File Uploaded Successfully! \\\n",
    "            You can edit your data using the table below- <br><strong> </div>')\n",
    "\n",
    "        start_info = HTML(\n",
    "            '<br><div class=\"alert alert-block alert-success\" align=\"left\"><strong>Start Visualizing your Data below:\\\n",
    "            <br><strong> </div>')\n",
    "\n",
    "        display(success_info)\n",
    "        decoded = button['owner'].data.decode('utf-8')\n",
    "        filename = button['owner'].filename\n",
    "        file_upload_hbox.children[2].value = '\\t{} ({:.2f} kB)'.format(\n",
    "            filename,\n",
    "            len(StringIO(decoded).read()) / 2**10)\n",
    "        global working_grid\n",
    "        working_dataframe = pd.read_csv(StringIO(decoded))\n",
    "        working_dataframe['Row Number'] = working_dataframe.index + 1\n",
    "        working_dataframe = working_dataframe.set_index('Row Number')\n",
    "        working_grid = qgrid.show_grid(working_dataframe,\n",
    "                                       grid_options={'forceFitColumns': False})\n",
    "        display(working_grid)\n",
    "        display(start_info)\n",
    "        global viz_master_box\n",
    "        viz_master_box = VBox([chart_selection_display])\n",
    "        chart_selection_toggle.value = None\n",
    "        display(viz_master_box)\n",
    "\n",
    "\n",
    "def start_master():\n",
    "    clear_output()\n",
    "    display(introduction)\n",
    "    global file_upload_hbox\n",
    "    file_upload_button = fileupload.FileUploadWidget()\n",
    "    file_upload_hbox = HBox([\n",
    "        HTML('<strong>Select File:', layout=Layout(margin='2px 15px 0px 0px')),\n",
    "        file_upload_button,\n",
    "        Label('', layout=Layout(margin='2px 0px 0px 10px'))\n",
    "    ])\n",
    "    file_upload_button.observe(file_uploaded, names='data')\n",
    "    display(file_upload_hbox)\n",
    "\n",
    "\n",
    "start_master()"
   ]
  },
  {
   "cell_type": "code",
   "execution_count": null,
   "metadata": {},
   "outputs": [],
   "source": []
  },
  {
   "cell_type": "code",
   "execution_count": null,
   "metadata": {},
   "outputs": [],
   "source": []
  },
  {
   "cell_type": "code",
   "execution_count": null,
   "metadata": {},
   "outputs": [],
   "source": []
  }
 ],
 "metadata": {
  "kernelspec": {
   "display_name": "Python 3",
   "language": "python",
   "name": "python3"
  },
  "language_info": {
   "codemirror_mode": {
    "name": "ipython",
    "version": 3
   },
   "file_extension": ".py",
   "mimetype": "text/x-python",
   "name": "python",
   "nbconvert_exporter": "python",
   "pygments_lexer": "ipython3",
   "version": "3.7.3"
  },
  "toc": {
   "base_numbering": 1,
   "nav_menu": {},
   "number_sections": true,
   "sideBar": true,
   "skip_h1_title": false,
   "title_cell": "Table of Contents",
   "title_sidebar": "Contents",
   "toc_cell": false,
   "toc_position": {},
   "toc_section_display": true,
   "toc_window_display": false
  }
 },
 "nbformat": 4,
 "nbformat_minor": 2
}
