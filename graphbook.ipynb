{
 "cells": [
  {
   "cell_type": "code",
   "execution_count": 1,
   "metadata": {},
   "outputs": [
    {
     "data": {
      "application/javascript": [
       "IPython.OutputArea.prototype._should_scroll = function(lines) {\n",
       "    return false;\n",
       "}\n"
      ],
      "text/plain": [
       "<IPython.core.display.Javascript object>"
      ]
     },
     "metadata": {},
     "output_type": "display_data"
    }
   ],
   "source": [
    "%%javascript\n",
    "IPython.OutputArea.prototype._should_scroll = function(lines) {\n",
    "    return false;\n",
    "}"
   ]
  },
  {
   "cell_type": "code",
   "execution_count": 70,
   "metadata": {},
   "outputs": [],
   "source": [
    "\"\"\"\n",
    "Imports\n",
    "\n",
    "\"\"\"\n",
    "import pandas as pd\n",
    "import ipywidgets as widgets\n",
    "from ipywidgets import Button, HTML, HBox, Dropdown, VBox, Label, ToggleButtons, Layout\n",
    "import plotly.express as px\n",
    "from IPython.display import clear_output\n",
    "from io import StringIO\n",
    "import qgrid\n",
    "import plotly.graph_objects as go\n",
    "import fileupload"
   ]
  },
  {
   "cell_type": "code",
   "execution_count": 71,
   "metadata": {},
   "outputs": [],
   "source": [
    "\"\"\"\n",
    "Plotly Plot functions\n",
    "\n",
    "\"\"\"\n",
    "\n",
    "parameter_info = HTML(\n",
    "    '<br><div class=\"alert alert-block alert-success\" align=\"left\"><strong> Enter input parameters: <br><strong> </div>'\n",
    ")\n",
    "\n",
    "\n",
    "def generate_line(button):\n",
    "    if line_options.children[1].value is not None and line_options.children[\n",
    "            3].value is not None:\n",
    "        updated_df = working_grid.get_changed_df()\n",
    "        linechart = go.FigureWidget(\n",
    "            px.line(updated_df,\n",
    "                    x=line_options.children[1].value,\n",
    "                    y=line_options.children[3].value))\n",
    "        if len(viz_master_box.children) > 3:\n",
    "            viz_master_box.children = viz_master_box.children[:-1] + tuple(\n",
    "                [linechart])\n",
    "        else:\n",
    "            viz_master_box.children = viz_master_box.children + tuple(\n",
    "                [linechart])\n",
    "\n",
    "\n",
    "def generate_multiline(button):\n",
    "    if multiline_options.children[1].value is not None and multiline_options.children[\n",
    "            3].value is not None and multiline_options.children[5].value is not None:\n",
    "        updated_df = working_grid.get_changed_df()\n",
    "        multilinechart = go.FigureWidget(\n",
    "            px.line(updated_df,\n",
    "                    x=multiline_options.children[1].value,\n",
    "                    y=multiline_options.children[5].value,\n",
    "                    color=multiline_options.children[3].value))\n",
    "        if len(viz_master_box.children) > 3:\n",
    "            viz_master_box.children = viz_master_box.children[:-1] + tuple(\n",
    "                [multilinechart])\n",
    "        else:\n",
    "            viz_master_box.children = viz_master_box.children + tuple(\n",
    "                [multilinechart])\n",
    "\n",
    "def generate_bar(button):\n",
    "    if line_options.children[1].value is not None and line_options.children[\n",
    "            3].value is not None:\n",
    "        updated_df = working_grid.get_changed_df()\n",
    "        barchart = go.FigureWidget(\n",
    "            px.bar(updated_df,\n",
    "                    x=line_options.children[1].value,\n",
    "                    y=line_options.children[3].value))\n",
    "        if len(viz_master_box.children) > 3:\n",
    "            viz_master_box.children = viz_master_box.children[:-1] + tuple(\n",
    "                [barchart])\n",
    "        else:\n",
    "            viz_master_box.children = viz_master_box.children + tuple(\n",
    "                [barchart])"
   ]
  },
  {
   "cell_type": "code",
   "execution_count": 72,
   "metadata": {
    "code_folding": []
   },
   "outputs": [],
   "source": [
    "def plot_graph_master(button):\n",
    "    # Line Chart\n",
    "    global line_options\n",
    "    line_options = HBox([\n",
    "        Label('Select Dimension column:',\n",
    "              layout=Layout(margin='5px 10px 0px 0')),\n",
    "        Dropdown(options=working_grid.get_changed_df().columns,\n",
    "                 layout=Layout(width='160px')),\n",
    "        Label('Select Metric column:',\n",
    "              layout=Layout(margin='5px 10px 0px 50px')),\n",
    "        Dropdown(options=working_grid.get_changed_df().columns,\n",
    "                 layout=Layout(width='160px')),\n",
    "        Button(description='Generate!',\n",
    "               button_style='success',\n",
    "               layout=Layout(margin='5px 10px 0px 150px'))\n",
    "    ])\n",
    "    global multiline_options\n",
    "    multiline_options = HBox([\n",
    "        Label('X-Axis Dimension:',\n",
    "              layout=Layout(margin='5px 0px 0px 0', width='17%')),\n",
    "        Dropdown(options=working_grid.get_changed_df().columns,\n",
    "                 layout=Layout(width='160px')),\n",
    "        Label('Legend Dimension:',\n",
    "              layout=Layout(margin='5px 0px 0px 10px', width='17%')),\n",
    "        Dropdown(options=working_grid.get_changed_df().columns,\n",
    "                 layout=Layout(width='160px')),\n",
    "        Label('Metric column:',\n",
    "              layout=Layout(margin='5px 0px 0px 10px', width='13%')),\n",
    "        Dropdown(options=working_grid.get_changed_df().columns,\n",
    "                 layout=Layout(width='160px')),\n",
    "        Button(description='Generate!',\n",
    "               button_style='success',\n",
    "               layout=Layout(margin='5px 10px 0px 150px'))\n",
    "    ])\n",
    "    if button.new == 'Line':\n",
    "        viz_master_box.children = tuple([viz_master_box.children[0]]) + tuple(\n",
    "            [parameter_info]) + tuple([line_options])\n",
    "        line_options.children[4].on_click(generate_line)\n",
    "    elif button.new == 'Multi-Line':\n",
    "        viz_master_box.children = tuple([viz_master_box.children[0]]) + tuple(\n",
    "            [parameter_info]) + tuple([multiline_options])\n",
    "        multiline_options.children[6].on_click(generate_multiline)\n",
    "    elif button.new == 'Bar':\n",
    "        viz_master_box.children = tuple([viz_master_box.children[0]]) + tuple(\n",
    "            [parameter_info]) + tuple([line_options])\n",
    "        line_options.children[4].on_click(generate_bar)"
   ]
  },
  {
   "cell_type": "code",
   "execution_count": 73,
   "metadata": {
    "code_folding": [
     0,
     4
    ],
    "scrolled": false
   },
   "outputs": [
    {
     "data": {
      "application/vnd.jupyter.widget-view+json": {
       "model_id": "7bb97f8a4c3849c88644107f94c04382",
       "version_major": 2,
       "version_minor": 0
      },
      "text/plain": [
       "HTML(value='<div class=\"alert alert-block alert-info\" align=\"left\"><strong>Visualization Module - Upload Custo…"
      ]
     },
     "metadata": {},
     "output_type": "display_data"
    },
    {
     "data": {
      "application/vnd.jupyter.widget-view+json": {
       "model_id": "f45a604c8b5c42ce89c23ef726e6899a",
       "version_major": 2,
       "version_minor": 0
      },
      "text/plain": [
       "HBox(children=(HTML(value='<strong>Select File:', layout=Layout(margin='2px 15px 0px 0px')), FileUploadWidget(…"
      ]
     },
     "metadata": {},
     "output_type": "display_data"
    },
    {
     "data": {
      "application/vnd.jupyter.widget-view+json": {
       "model_id": "153d8f3d1d634803aac1ca707d064355",
       "version_major": 2,
       "version_minor": 0
      },
      "text/plain": [
       "HTML(value='<br><div class=\"alert alert-block alert-success\" align=\"left\"><strong>File Uploaded Successfully! …"
      ]
     },
     "metadata": {},
     "output_type": "display_data"
    },
    {
     "data": {
      "application/vnd.jupyter.widget-view+json": {
       "model_id": "a8d89825ba2c47d2bb5bb019633cc7ec",
       "version_major": 2,
       "version_minor": 0
      },
      "text/plain": [
       "QgridWidget(grid_options={'fullWidthRows': True, 'syncColumnCellResize': True, 'forceFitColumns': False, 'defa…"
      ]
     },
     "metadata": {},
     "output_type": "display_data"
    },
    {
     "data": {
      "application/vnd.jupyter.widget-view+json": {
       "model_id": "e2390d1c492e4658b0a73f13e79e53aa",
       "version_major": 2,
       "version_minor": 0
      },
      "text/plain": [
       "HTML(value='<br><div class=\"alert alert-block alert-success\" align=\"left\"><strong>Start Visualizing your Data …"
      ]
     },
     "metadata": {},
     "output_type": "display_data"
    },
    {
     "data": {
      "application/vnd.jupyter.widget-view+json": {
       "model_id": "dfb342decd5b4dac9ea85d6e4b0185a0",
       "version_major": 2,
       "version_minor": 0
      },
      "text/plain": [
       "VBox(children=(HBox(children=(Label(value='Select Visualization Type:'), ToggleButtons(button_style='info', op…"
      ]
     },
     "metadata": {},
     "output_type": "display_data"
    }
   ],
   "source": [
    "introduction = HTML(\n",
    "    '<div class=\"alert alert-block alert-info\" align=\"left\"><strong>Visualization Module - Upload Custom .csv or\\\n",
    "    .txt files and Visualize them !<strong></div>')\n",
    "\n",
    "chart_selection_toggle = ToggleButtons(options=['Line', 'Multi-Line', 'Bar'],\n",
    "                                       value=None,\n",
    "                                       button_style='info')\n",
    "chart_selection_display = HBox(\n",
    "    [Label('Select Visualization Type:'), chart_selection_toggle])\n",
    "\n",
    "chart_selection_toggle.observe(plot_graph_master, names=['value'])\n",
    "\n",
    "\n",
    "def file_uploaded(button):\n",
    "    if 'csv' not in button['owner'].filename and 'txt' not in button[\n",
    "            'owner'].filename:\n",
    "        start_master()\n",
    "        file_upload_hbox.children[2].value = 'Upload csv/txt only!'\n",
    "    else:\n",
    "        start_master()\n",
    "        success_info = HTML(\n",
    "            '<br><div class=\"alert alert-block alert-success\" align=\"left\"><strong>File Uploaded Successfully! \\\n",
    "            You can edit your data using the table below- <br><strong> </div>')\n",
    "\n",
    "        start_info = HTML(\n",
    "            '<br><div class=\"alert alert-block alert-success\" align=\"left\"><strong>Start Visualizing your Data below:\\\n",
    "            <br><strong> </div>')\n",
    "\n",
    "        display(success_info)\n",
    "        decoded = button['owner'].data.decode('utf-8')\n",
    "        filename = button['owner'].filename\n",
    "        file_upload_hbox.children[2].value = '\\t{} ({:.2f} kB)'.format(\n",
    "            filename,\n",
    "            len(StringIO(decoded).read()) / 2**10)\n",
    "        global working_grid\n",
    "        working_dataframe = pd.read_csv(StringIO(decoded))\n",
    "        working_dataframe['Row Number'] = working_dataframe.index + 1\n",
    "        working_dataframe = working_dataframe.set_index('Row Number')\n",
    "        working_grid = qgrid.show_grid(working_dataframe,\n",
    "                                       grid_options={'forceFitColumns': False})\n",
    "        display(working_grid)\n",
    "        display(start_info)\n",
    "        global viz_master_box\n",
    "        viz_master_box = VBox([chart_selection_display])\n",
    "        chart_selection_toggle.value = None\n",
    "        display(viz_master_box)\n",
    "\n",
    "\n",
    "def start_master():\n",
    "    clear_output()\n",
    "    display(introduction)\n",
    "    global file_upload_hbox\n",
    "    file_upload_button = fileupload.FileUploadWidget()\n",
    "    file_upload_hbox = HBox([\n",
    "        HTML('<strong>Select File:', layout=Layout(margin='2px 15px 0px 0px')),\n",
    "        file_upload_button,\n",
    "        Label('', layout=Layout(margin='2px 0px 0px 10px'))\n",
    "    ])\n",
    "    file_upload_button.observe(file_uploaded, names='data')\n",
    "    display(file_upload_hbox)\n",
    "\n",
    "\n",
    "start_master()"
   ]
  },
  {
   "cell_type": "code",
   "execution_count": 62,
   "metadata": {},
   "outputs": [
    {
     "data": {
      "application/vnd.jupyter.widget-view+json": {
       "model_id": "857caca396394fd2922a51ca733f192b",
       "version_major": 2,
       "version_minor": 0
      },
      "text/plain": [
       "HBox(children=(Label(value='X-Axis Dimension:', layout=Layout(margin='5px 0px 0px 0', width='17%')), Dropdown(…"
      ]
     },
     "metadata": {},
     "output_type": "display_data"
    }
   ],
   "source": [
    "HBox([\n",
    "    Label('X-Axis Dimension:', layout=Layout(margin='5px 0px 0px 0', width='17%')),\n",
    "    Dropdown(options=working_grid.get_changed_df().columns,\n",
    "             layout=Layout(width='160px')),\n",
    "    Label('Legend Dimension:', layout=Layout(margin='5px 0px 0px 10px', width='17%')),\n",
    "    Dropdown(options=working_grid.get_changed_df().columns,\n",
    "             layout=Layout(width='160px')),\n",
    "    Label('Metric column:', layout=Layout(margin='5px 0px 0px 10px', width='13%')),\n",
    "    Dropdown(options=working_grid.get_changed_df().columns,\n",
    "             layout=Layout(width='160px')),\n",
    "    Button(description='Generate!',\n",
    "           button_style='success',\n",
    "           layout=Layout(margin='5px 10px 0px 150px'))\n",
    "])"
   ]
  },
  {
   "cell_type": "code",
   "execution_count": null,
   "metadata": {},
   "outputs": [],
   "source": []
  },
  {
   "cell_type": "code",
   "execution_count": null,
   "metadata": {},
   "outputs": [],
   "source": []
  },
  {
   "cell_type": "code",
   "execution_count": null,
   "metadata": {},
   "outputs": [],
   "source": []
  }
 ],
 "metadata": {
  "kernelspec": {
   "display_name": "Python 3",
   "language": "python",
   "name": "python3"
  },
  "language_info": {
   "codemirror_mode": {
    "name": "ipython",
    "version": 3
   },
   "file_extension": ".py",
   "mimetype": "text/x-python",
   "name": "python",
   "nbconvert_exporter": "python",
   "pygments_lexer": "ipython3",
   "version": "3.7.3"
  },
  "toc": {
   "base_numbering": 1,
   "nav_menu": {},
   "number_sections": true,
   "sideBar": true,
   "skip_h1_title": false,
   "title_cell": "Table of Contents",
   "title_sidebar": "Contents",
   "toc_cell": false,
   "toc_position": {},
   "toc_section_display": true,
   "toc_window_display": false
  }
 },
 "nbformat": 4,
 "nbformat_minor": 2
}
